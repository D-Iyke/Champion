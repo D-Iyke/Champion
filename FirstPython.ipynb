{
 "cells": [
  {
   "cell_type": "code",
   "execution_count": 1,
   "id": "760fe999",
   "metadata": {},
   "outputs": [
    {
     "name": "stdout",
     "output_type": "stream",
     "text": [
      "Welcome to python world! Let's start coding\n"
     ]
    }
   ],
   "source": [
    "print (\"Welcome to python world! Let's start coding\")\n"
   ]
  },
  {
   "cell_type": "code",
   "execution_count": 14,
   "id": "283353ca",
   "metadata": {},
   "outputs": [],
   "source": [
    "I=10\n",
    "F=59.6\n",
    "B=True\n",
    "S=\"Welcome to Python class\""
   ]
  },
  {
   "cell_type": "code",
   "execution_count": 15,
   "id": "ce5a2d12",
   "metadata": {},
   "outputs": [
    {
     "name": "stdout",
     "output_type": "stream",
     "text": [
      "<class 'int'>\n",
      "<class 'float'>\n",
      "<class 'bool'>\n",
      "<class 'str'>\n"
     ]
    }
   ],
   "source": [
    "print(type(I))\n",
    "print(type(F))\n",
    "print(type(B))\n",
    "print(type(S))"
   ]
  },
  {
   "cell_type": "code",
   "execution_count": 7,
   "id": "6d2f3827",
   "metadata": {},
   "outputs": [
    {
     "name": "stdout",
     "output_type": "stream",
     "text": [
      "Welcome to Python class\n"
     ]
    }
   ],
   "source": [
    "print(S)"
   ]
  },
  {
   "cell_type": "code",
   "execution_count": 8,
   "id": "2daf14c9",
   "metadata": {},
   "outputs": [
    {
     "data": {
      "text/plain": [
       "'59.6'"
      ]
     },
     "execution_count": 8,
     "metadata": {},
     "output_type": "execute_result"
    }
   ],
   "source": [
    "str(F)"
   ]
  },
  {
   "cell_type": "code",
   "execution_count": 9,
   "id": "ecbdf1aa",
   "metadata": {},
   "outputs": [
    {
     "data": {
      "text/plain": [
       "10.0"
      ]
     },
     "execution_count": 9,
     "metadata": {},
     "output_type": "execute_result"
    }
   ],
   "source": [
    "float(K)"
   ]
  },
  {
   "cell_type": "code",
   "execution_count": 10,
   "id": "1f9a15f1",
   "metadata": {},
   "outputs": [
    {
     "data": {
      "text/plain": [
       "True"
      ]
     },
     "execution_count": 10,
     "metadata": {},
     "output_type": "execute_result"
    }
   ],
   "source": [
    "bool(S)"
   ]
  },
  {
   "cell_type": "code",
   "execution_count": 11,
   "id": "5c9433ca",
   "metadata": {},
   "outputs": [
    {
     "ename": "ValueError",
     "evalue": "invalid literal for int() with base 10: 'Welcome to Python class'",
     "output_type": "error",
     "traceback": [
      "\u001b[1;31m---------------------------------------------------------------------------\u001b[0m",
      "\u001b[1;31mValueError\u001b[0m                                Traceback (most recent call last)",
      "\u001b[1;32m<ipython-input-11-c5c44eed0f65>\u001b[0m in \u001b[0;36m<module>\u001b[1;34m\u001b[0m\n\u001b[1;32m----> 1\u001b[1;33m \u001b[0mint\u001b[0m\u001b[1;33m(\u001b[0m\u001b[0mS\u001b[0m\u001b[1;33m)\u001b[0m\u001b[1;33m\u001b[0m\u001b[1;33m\u001b[0m\u001b[0m\n\u001b[0m",
      "\u001b[1;31mValueError\u001b[0m: invalid literal for int() with base 10: 'Welcome to Python class'"
     ]
    }
   ],
   "source": [
    "int(S)"
   ]
  },
  {
   "cell_type": "code",
   "execution_count": 12,
   "id": "8d10d674",
   "metadata": {},
   "outputs": [
    {
     "data": {
      "text/plain": [
       "True"
      ]
     },
     "execution_count": 12,
     "metadata": {},
     "output_type": "execute_result"
    }
   ],
   "source": [
    "bool(S)"
   ]
  },
  {
   "cell_type": "code",
   "execution_count": 13,
   "id": "83c7a884",
   "metadata": {},
   "outputs": [
    {
     "data": {
      "text/plain": [
       "59"
      ]
     },
     "execution_count": 13,
     "metadata": {},
     "output_type": "execute_result"
    }
   ],
   "source": [
    "int(F)"
   ]
  },
  {
   "cell_type": "code",
   "execution_count": 16,
   "id": "9d7610e0",
   "metadata": {},
   "outputs": [
    {
     "data": {
      "text/plain": [
       "1"
      ]
     },
     "execution_count": 16,
     "metadata": {},
     "output_type": "execute_result"
    }
   ],
   "source": [
    "int(B)"
   ]
  },
  {
   "cell_type": "code",
   "execution_count": null,
   "id": "f96e287c",
   "metadata": {},
   "outputs": [],
   "source": []
  }
 ],
 "metadata": {
  "kernelspec": {
   "display_name": "Python 3",
   "language": "python",
   "name": "python3"
  },
  "language_info": {
   "codemirror_mode": {
    "name": "ipython",
    "version": 3
   },
   "file_extension": ".py",
   "mimetype": "text/x-python",
   "name": "python",
   "nbconvert_exporter": "python",
   "pygments_lexer": "ipython3",
   "version": "3.8.8"
  }
 },
 "nbformat": 4,
 "nbformat_minor": 5
}
